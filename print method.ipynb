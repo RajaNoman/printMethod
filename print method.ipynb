{
 "cells": [
  {
   "cell_type": "code",
   "execution_count": 2,
   "id": "e04eebe1",
   "metadata": {},
   "outputs": [
    {
     "name": "stdout",
     "output_type": "stream",
     "text": [
      "1000\n"
     ]
    }
   ],
   "source": [
    "print(1000)"
   ]
  },
  {
   "cell_type": "code",
   "execution_count": 3,
   "id": "6799cbf1",
   "metadata": {},
   "outputs": [
    {
     "name": "stdout",
     "output_type": "stream",
     "text": [
      "100 14.5\n"
     ]
    }
   ],
   "source": [
    "print(100,14.5) #integer #floating point"
   ]
  },
  {
   "cell_type": "code",
   "execution_count": 4,
   "id": "b4e8a0b7",
   "metadata": {},
   "outputs": [
    {
     "name": "stdout",
     "output_type": "stream",
     "text": [
      "noamn ali\n"
     ]
    }
   ],
   "source": [
    "print(\"noamn ali\") #string"
   ]
  },
  {
   "cell_type": "code",
   "execution_count": 5,
   "id": "ced84de2",
   "metadata": {},
   "outputs": [
    {
     "name": "stdout",
     "output_type": "stream",
     "text": [
      "99\n"
     ]
    }
   ],
   "source": [
    "print(\"99\") #string"
   ]
  },
  {
   "cell_type": "code",
   "execution_count": 6,
   "id": "08969a57",
   "metadata": {
    "scrolled": true
   },
   "outputs": [
    {
     "name": "stdout",
     "output_type": "stream",
     "text": [
      "1234noman\n"
     ]
    }
   ],
   "source": [
    "print(\"1234noman\")"
   ]
  },
  {
   "cell_type": "code",
   "execution_count": 7,
   "id": "1da850c8",
   "metadata": {},
   "outputs": [
    {
     "name": "stdout",
     "output_type": "stream",
     "text": [
      "hello world1\n",
      "hello world2\n",
      "hello world3\n"
     ]
    }
   ],
   "source": [
    "print(\"hello world1\")\n",
    "print(\"hello world2\")\n",
    "print(\"hello world3\")"
   ]
  },
  {
   "cell_type": "code",
   "execution_count": 11,
   "id": "f73ef94d",
   "metadata": {},
   "outputs": [
    {
     "name": "stdout",
     "output_type": "stream",
     "text": [
      "hello world1\thello world2\n",
      "\n",
      "hello world3\n"
     ]
    }
   ],
   "source": [
    "print(\"hello world1\",end=\"\\t\")\n",
    "print(\"hello world2\",end=\"\\n\\n\") #escape characters\n",
    "print(\"hello world3\")"
   ]
  },
  {
   "cell_type": "code",
   "execution_count": 20,
   "id": "99397b1e",
   "metadata": {},
   "outputs": [
    {
     "name": "stdout",
     "output_type": "stream",
     "text": [
      "pakistan  china  japan\n"
     ]
    }
   ],
   "source": [
    "print(\"pakistan\",\"china\",\"japan\", sep=\"  \")"
   ]
  },
  {
   "cell_type": "code",
   "execution_count": 23,
   "id": "272bff4d",
   "metadata": {},
   "outputs": [
    {
     "ename": "SyntaxError",
     "evalue": "unexpected character after line continuation character (4046608144.py, line 1)",
     "output_type": "error",
     "traceback": [
      "\u001b[1;36m  Input \u001b[1;32mIn [23]\u001b[1;36m\u001b[0m\n\u001b[1;33m    print(\"pakistan\",end=\\\\)\u001b[0m\n\u001b[1;37m                          ^\u001b[0m\n\u001b[1;31mSyntaxError\u001b[0m\u001b[1;31m:\u001b[0m unexpected character after line continuation character\n"
     ]
    }
   ],
   "source": [
    "print(\"pakistan\",end=\\\\)"
   ]
  },
  {
   "cell_type": "code",
   "execution_count": null,
   "id": "6340289d",
   "metadata": {},
   "outputs": [],
   "source": []
  }
 ],
 "metadata": {
  "kernelspec": {
   "display_name": "Python 3 (ipykernel)",
   "language": "python",
   "name": "python3"
  },
  "language_info": {
   "codemirror_mode": {
    "name": "ipython",
    "version": 3
   },
   "file_extension": ".py",
   "mimetype": "text/x-python",
   "name": "python",
   "nbconvert_exporter": "python",
   "pygments_lexer": "ipython3",
   "version": "3.9.12"
  }
 },
 "nbformat": 4,
 "nbformat_minor": 5
}
